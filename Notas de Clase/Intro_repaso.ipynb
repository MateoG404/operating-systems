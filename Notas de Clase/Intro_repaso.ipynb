{
 "cells": [
  {
   "cell_type": "markdown",
   "metadata": {},
   "source": [
    "# Breve repaso de C"
   ]
  },
  {
   "cell_type": "code",
   "execution_count": null,
   "metadata": {},
   "outputs": [],
   "source": []
  },
  {
   "cell_type": "code",
   "execution_count": 1,
   "metadata": {},
   "outputs": [
    {
     "ename": "SyntaxError",
     "evalue": "invalid syntax (1597804477.py, line 3)",
     "output_type": "error",
     "traceback": [
      "\u001b[0;36m  Cell \u001b[0;32mIn[1], line 3\u001b[0;36m\u001b[0m\n\u001b[0;31m    int main(){\u001b[0m\n\u001b[0m        ^\u001b[0m\n\u001b[0;31mSyntaxError\u001b[0m\u001b[0;31m:\u001b[0m invalid syntax\n"
     ]
    }
   ],
   "source": [
    "#include \"stdio.h\"\n",
    "\n",
    "int main(){\n",
    "    printf(\"\\nhello world \\n\");\n",
    "    return 0;\n",
    "}"
   ]
  },
  {
   "cell_type": "markdown",
   "metadata": {},
   "source": [
    "Para compilar:  \n",
    "\n",
    "*gcc helloworld.c  -o  helloworld*\n",
    "\n",
    "para ejecutar:\n",
    "\n",
    "*./helloworld *\n"
   ]
  },
  {
   "cell_type": "markdown",
   "metadata": {},
   "source": [
    "## Tipos"
   ]
  },
  {
   "cell_type": "markdown",
   "metadata": {},
   "source": [
    "Algunos de los tipos más importantes en C y su espacio en memoria:"
   ]
  },
  {
   "cell_type": "code",
   "execution_count": 3,
   "metadata": {
    "scrolled": false
   },
   "outputs": [
    {
     "name": "stdout",
     "output_type": "stream",
     "text": [
      "\n",
      "Type    bytes\n",
      "char:   1\n",
      "short:  2\n",
      "int:    4\n",
      "long:   8\n",
      "float:  4\n",
      "double: 8"
     ]
    }
   ],
   "source": [
    "#include \"stdio.h\"\n",
    "\n",
    "int main(){\n",
    "    printf(\"\\nType    bytes\");\n",
    "    printf(\"\\nchar:   %li\", sizeof(char));\n",
    "    printf(\"\\nshort:  %li\", sizeof(short));\n",
    "    printf(\"\\nint:    %li\", sizeof(int));\n",
    "    printf(\"\\nlong:   %li\", sizeof(long));\n",
    "    printf(\"\\nfloat:  %li\", sizeof(float));\n",
    "    printf(\"\\ndouble: %li\", sizeof(double));\n",
    "    return 0;\n",
    "}"
   ]
  },
  {
   "cell_type": "markdown",
   "metadata": {},
   "source": [
    "Tamaño ocupado en memoria por los apuntadores:"
   ]
  },
  {
   "cell_type": "code",
   "execution_count": 4,
   "metadata": {},
   "outputs": [
    {
     "name": "stdout",
     "output_type": "stream",
     "text": [
      "\n",
      "Type    bytes\n",
      "char:   8\n",
      "short:  8\n",
      "int:    8\n",
      "long:   8\n",
      "float:  8\n",
      "double: 8"
     ]
    }
   ],
   "source": [
    "#include \"stdio.h\"\n",
    "\n",
    "int main(){\n",
    "    char *a;\n",
    "    short *b;\n",
    "    int *c;\n",
    "    long *d;\n",
    "    float *e;\n",
    "    double *f;\n",
    "    printf(\"\\nType    bytes\");\n",
    "    printf(\"\\nchar:   %li\", sizeof(a));\n",
    "    printf(\"\\nshort:  %li\", sizeof(b));\n",
    "    printf(\"\\nint:    %li\", sizeof(c));\n",
    "    printf(\"\\nlong:   %li\", sizeof(d));\n",
    "    printf(\"\\nfloat:  %li\", sizeof(e));\n",
    "    printf(\"\\ndouble: %li\", sizeof(f));\n",
    "    return 0;\n",
    "}"
   ]
  },
  {
   "cell_type": "markdown",
   "metadata": {},
   "source": [
    "## Pointers\n"
   ]
  },
  {
   "cell_type": "code",
   "execution_count": 21,
   "metadata": {},
   "outputs": [
    {
     "name": "stdout",
     "output_type": "stream",
     "text": [
      "0 1 2 3 4 5 6 7 8 9 10 11 12 13 14 15 16 17 18 19 20 21 22 23 24 25 26 27 28 29 30 31 32 33 34 35 36 37 38 39 40 41 42 43 44 45 46 47 48 49 50 51 52 53 54 55 56 57 58 59 60 61 62 63 64 65 66 67 68 69 70 71 72 73 74 75 76 77 78 79 80 81 82 83 84 85 86 87 88 89 90 91 92 93 94 95 96 97 98 99 "
     ]
    }
   ],
   "source": [
    "#include \"stdio.h\"\n",
    "#define NUMDATA 100\n",
    "\n",
    "int print(int *data){\n",
    "    int i;\n",
    "    for(i = 0; i < NUMDATA; i++){\n",
    "        printf(\"%i \", data[i]);\n",
    "    }\n",
    "    return 0;\n",
    "}\n",
    "\n",
    "int main(){\n",
    "    int i, a[NUMDATA];\n",
    "    \n",
    "    for(i = 0; i < NUMDATA; i++){\n",
    "        a[i] = i;\n",
    "    }\n",
    "    \n",
    "    print(a);\n",
    "    return 0;\n",
    "}"
   ]
  },
  {
   "cell_type": "markdown",
   "metadata": {},
   "source": [
    "Uso de memoria dinámica:"
   ]
  },
  {
   "cell_type": "code",
   "execution_count": 24,
   "metadata": {},
   "outputs": [
    {
     "name": "stdout",
     "output_type": "stream",
     "text": [
      "0 1 2 3 4 5 6 7 8 9 10 11 12 13 14 15 16 17 18 19 20 21 22 23 24 25 26 27 28 29 30 31 32 33 34 35 36 37 38 39 40 41 42 43 44 45 46 47 48 49 50 51 52 53 54 55 56 57 58 59 60 61 62 63 64 65 66 67 68 69 70 71 72 73 74 75 76 77 78 79 80 81 82 83 84 85 86 87 88 89 90 91 92 93 94 95 96 97 98 99 "
     ]
    }
   ],
   "source": [
    "#include \"stdio.h\"\n",
    "#include \"stdlib.h\"\n",
    "\n",
    "#define NUMDATA 100\n",
    "\n",
    "int print(int *data){\n",
    "    int i;\n",
    "    for(i = 0; i < NUMDATA; i++){\n",
    "        printf(\"%i \", data[i]);\n",
    "    }\n",
    "    return 0;\n",
    "}\n",
    "\n",
    "int main(){\n",
    "    int i, *a;\n",
    "    a = (int *)malloc(NUMDATA * sizeof(int));\n",
    "    if(a == NULL){\n",
    "        perror(\"malloc error:\");\n",
    "    }\n",
    "    \n",
    "    for(i = 0; i < NUMDATA; i++){\n",
    "        a[i] = i;\n",
    "    }\n",
    "    \n",
    "    print(a);\n",
    "    free(a);\n",
    "    return 0;\n",
    "}"
   ]
  },
  {
   "cell_type": "markdown",
   "metadata": {},
   "source": [
    "## Archivos"
   ]
  },
  {
   "cell_type": "code",
   "execution_count": 6,
   "metadata": {},
   "outputs": [],
   "source": [
    "#include <stdio.h>\n",
    "#include <stdlib.h>\n",
    "\n",
    "#define LEN 10\n",
    "\n",
    "int main(int argc, char *argv[])\n",
    "{\n",
    "    FILE *ap;\n",
    "    int r;\n",
    "    \n",
    "    ap = fopen(\"test.dat\", \"w\");\n",
    "    if(ap <= 0){\n",
    "        perror(\"Error in fopen: \");\n",
    "    }\n",
    "    r = fwrite(\"hola mundo\", sizeof(char), LEN, ap);\n",
    "    if(r <= 0){\n",
    "        perror(\"Error in fwrite: \");\n",
    "    }     \n",
    "    fclose(ap);\n",
    "}"
   ]
  },
  {
   "cell_type": "code",
   "execution_count": 3,
   "metadata": {},
   "outputs": [
    {
     "name": "stdout",
     "output_type": "stream",
     "text": [
      "\n",
      "hola mundo"
     ]
    }
   ],
   "source": [
    "\n",
    "#include <stdio.h>\n",
    "#include <stdlib.h>\n",
    "\n",
    "#define LEN 10\n",
    "\n",
    "int main(int argc, char *argv[])\n",
    "{\n",
    "    FILE *ap;\n",
    "    int r;\n",
    "    char buffer[32];\n",
    "    ap = fopen(\"test.dat\", \"r\");\n",
    "    if(ap <= 0){\n",
    "        perror(\"Error in fopen: \");\n",
    "    }\n",
    "    r = fread(buffer,sizeof(char), LEN, ap);\n",
    "    if(r <= 0){\n",
    "        perror(\"Error in fread: \");\n",
    "    }    \n",
    "    buffer[r] = 0;\n",
    "    printf(\"\\n%s\", buffer);\n",
    "    fclose(ap);\n",
    "}"
   ]
  },
  {
   "cell_type": "code",
   "execution_count": 18,
   "metadata": {},
   "outputs": [
    {
     "name": "stdout",
     "output_type": "stream",
     "text": [
      "\n",
      " nombre: Ringo\n",
      " tipo: perro\n",
      " edad: 10\n",
      " raza: westie\n",
      " estatura: 30\n",
      " peso: 10.100000\n",
      " sexo: M"
     ]
    }
   ],
   "source": [
    "#include \"stdio.h\"\n",
    "#include \"stdlib.h\"\n",
    "\n",
    "struct dataType{\n",
    "    char nombre[32];\n",
    "    char tipo[32];\n",
    "    int edad;\n",
    "    char raza[16];\n",
    "    int estatura;\n",
    "    float peso;\n",
    "    char sexo;\n",
    "};\n",
    "\n",
    "\n",
    "int loadStruct(void *ap){\n",
    "    struct dataType *data; \n",
    "    data = ap;\n",
    "    //scanf(\" %s\", data->nombre); \n",
    "    sprintf(data->nombre,\"Ringo\");\n",
    "    //scanf(\" %s\", data->tipo);\n",
    "    sprintf(data->tipo,\"perro\");\n",
    "    //scanf(\" %i\", &data->edad);\n",
    "    data->edad = 10;\n",
    "    //scanf(\" %s\", data->raza);\n",
    "    sprintf(data->raza,\"westie\");\n",
    "    //scanf(\" %i\", &data->estatura);\n",
    "    data->estatura = 30;\n",
    "    //scanf(\" %f\", &data->peso);\n",
    "    data->peso = 10.1;\n",
    "    //scanf(\" %c\", &data->sexo);\n",
    "    data->sexo = 'M';\n",
    "    return 0;\n",
    "}\n",
    "\n",
    "int printStruct(void *ap){\n",
    "    struct dataType *data; \n",
    "    data = ap;\n",
    "    printf(\"\\n nombre: %s\", data->nombre);\n",
    "    printf(\"\\n tipo: %s\", data->tipo);\n",
    "    printf(\"\\n edad: %i\", data->edad);\n",
    "    printf(\"\\n raza: %s\", data->raza);\n",
    "    printf(\"\\n estatura: %i\", data->estatura);\n",
    "    printf(\"\\n peso: %f\", data->peso);\n",
    "    printf(\"\\n sexo: %c\", data->sexo);\n",
    "}\n",
    "\n",
    "\n",
    "int guardar(void *ap){\n",
    "    struct dataType *data;\n",
    "    data = ap;\n",
    "    \n",
    "    FILE *apFile;\n",
    "    int r;\n",
    "    \n",
    "    apFile = fopen(\"datos.dat\",\"w+\");\n",
    "    if(apFile == NULL){\n",
    "        perror(\"error fopen:\");\n",
    "        exit(-1);\n",
    "    }\n",
    "    \n",
    "    r = fwrite(ap, sizeof(struct dataType), 1, apFile);\n",
    "    if(r <= 0){\n",
    "        perror(\"error fwrite\");\n",
    "        exit(-1);\n",
    "    }\n",
    "    \n",
    "    r = fclose(apFile);\n",
    "    if(r < 0){\n",
    "        perror(\"error fclose: \");\n",
    "        exit(-1);\n",
    "    }    \n",
    "    \n",
    "}\n",
    "\n",
    "int main(){\n",
    "    struct dataType *data;\n",
    "    data = malloc(sizeof(struct dataType));\n",
    "    if(data == NULL){\n",
    "        perror(\"error malloc: \");\n",
    "        exit(-1);\n",
    "    }\n",
    "    loadStruct((void *)data);\n",
    "    printStruct((void *)data);\n",
    "    guardar((void *)data);\n",
    "    free(data);\n",
    "}"
   ]
  }
 ],
 "metadata": {
  "kernelspec": {
   "display_name": "Python 3",
   "language": "python",
   "name": "python3"
  },
  "language_info": {
   "codemirror_mode": {
    "name": "ipython",
    "version": 3
   },
   "file_extension": ".py",
   "mimetype": "text/x-python",
   "name": "python",
   "nbconvert_exporter": "python",
   "pygments_lexer": "ipython3",
   "version": "3.10.6"
  }
 },
 "nbformat": 4,
 "nbformat_minor": 2
}
