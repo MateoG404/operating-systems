{
 "cells": [
  {
   "cell_type": "code",
   "execution_count": 2,
   "metadata": {},
   "outputs": [
    {
     "name": "stdout",
     "output_type": "stream",
     "text": [
      "\n",
      "variable cpid del proceso padre: 96\n",
      "variable cpid del proceso hijo: 0"
     ]
    }
   ],
   "source": [
    "// fork test\n",
    "#include <stdio.h>\n",
    "#include <stdlib.h>\n",
    "#include <unistd.h>\n",
    "#include <sys/types.h>\n",
    "\n",
    "int main(int argc, char *argv[])\n",
    "{\n",
    "    pid_t cpid;\n",
    "\n",
    "    cpid = fork();\n",
    "    if (cpid == -1) { \n",
    "        perror(\"fork\"); \n",
    "        exit(EXIT_FAILURE); \n",
    "    }\n",
    "\n",
    "    if (cpid == 0) {   \n",
    "        printf(\"\\nvariable cpid del proceso hijo: %i\", cpid);\n",
    "\t\tfflush(stdout); \n",
    "    } \n",
    "    else {   \n",
    "        printf(\"\\nvariable cpid del proceso padre: %i\", cpid);\n",
    "\t\tfflush(stdout); \n",
    "    }\n",
    "}\n"
   ]
  },
  {
   "cell_type": "code",
   "execution_count": 1,
   "metadata": {},
   "outputs": [
    {
     "name": "stdout",
     "output_type": "stream",
     "text": [
      "\n",
      "variable cpid del proceso padre: 51"
     ]
    }
   ],
   "source": [
    "//%cflags: -lm \n",
    "\n",
    "#include <stdio.h>\n",
    "#include <stdlib.h>\n",
    "#include <unistd.h>\n",
    "#include <sys/types.h>\n",
    "#include <math.h>\n",
    "\n",
    "int funcion(){\n",
    "    int i;\n",
    "    double x;\n",
    "    \n",
    "    for(i = 0; i < 1e09; i++){\n",
    "        x = x + sin(x);\n",
    "    }\n",
    "}\n",
    "    \n",
    "\n",
    "\n",
    "int main(int argc, char *argv[])\n",
    "{\n",
    "    pid_t cpid;\n",
    "\n",
    "    cpid = fork();\n",
    "    if (cpid == -1) { \n",
    "        perror(\"fork\"); \n",
    "        exit(EXIT_FAILURE); \n",
    "    }\n",
    "\n",
    "    if (cpid == 0) {  \n",
    "        funcion();\n",
    "        printf(\"\\nvariable cpid del proceso hijo: %i\", cpid);\n",
    "\t\tfflush(stdout); \n",
    "    } \n",
    "    else {\n",
    "        funcion();\n",
    "        printf(\"\\nvariable cpid del proceso padre: %i\", cpid);\n",
    "\t\tfflush(stdout); \n",
    "    }\n",
    "}"
   ]
  },
  {
   "cell_type": "code",
   "execution_count": 2,
   "metadata": {},
   "outputs": [
    {
     "name": "stdout",
     "output_type": "stream",
     "text": [
      "\n",
      "Mensaje del hijo: hola mundo \n"
     ]
    }
   ],
   "source": [
    "//programa para probar una tubería\n",
    "//el hijo pasa un mensaje al padre\n",
    "//el padre lo imprime en pantalla\n",
    "\n",
    "#include <stdio.h>\n",
    "#include <stdlib.h>\n",
    "#include <unistd.h>\n",
    "#include <sys/types.h>\n",
    "\n",
    "int main()\n",
    "{\n",
    "    pid_t pid;\n",
    "    int r;\n",
    "    int pipefd[2];\n",
    "    char buf[11];\n",
    "    \n",
    "    // Creación de la tuberia \n",
    "\n",
    "    r = pipe(pipefd);\n",
    "\n",
    "    if(r < 0){ \n",
    "        perror(\"Error pipe() \"); \n",
    "        exit(-1);\n",
    "    }\n",
    "    pid = fork();\n",
    "    if(pid < 0){    //handle errors\n",
    "        perror(\"error fork\");\n",
    "        exit(-1);\n",
    "    }\n",
    "    if(pid == 0){\n",
    "      //hijo escribe pipe - pipefd[1]\n",
    "      close(pipefd[0]);\n",
    "      // ssize_t write(int fd, const void *buf, size_t count);\n",
    "      write(pipefd[1], \"hola mundo\", 10);\n",
    "      //handle errors\n",
    "      close(pipefd[1]);\n",
    "      exit(0);    \n",
    "    }else\n",
    "    { \n",
    "      //padre lee pipe - pipefd[0]\n",
    "      close(pipefd[1]);\n",
    "      //ssize_t read(int fd, void *buf, size_t count);\n",
    "    r = read(pipefd[0], buf, 10);\n",
    "      buf[r] = 0;\n",
    "      //handle errors\n",
    "      close(pipefd[0]);\n",
    "      printf(\"\\nMensaje del hijo: %s \\n\", buf);\n",
    "    }\n",
    "}"
   ]
  },
  {
   "cell_type": "code",
   "execution_count": null,
   "metadata": {},
   "outputs": [],
   "source": []
  },
  {
   "cell_type": "code",
   "execution_count": null,
   "metadata": {},
   "outputs": [],
   "source": []
  }
 ],
 "metadata": {
  "kernelspec": {
   "display_name": "C",
   "language": "c",
   "name": "c"
  },
  "language_info": {
   "file_extension": ".c",
   "mimetype": "text/plain",
   "name": "c"
  }
 },
 "nbformat": 4,
 "nbformat_minor": 2
}
